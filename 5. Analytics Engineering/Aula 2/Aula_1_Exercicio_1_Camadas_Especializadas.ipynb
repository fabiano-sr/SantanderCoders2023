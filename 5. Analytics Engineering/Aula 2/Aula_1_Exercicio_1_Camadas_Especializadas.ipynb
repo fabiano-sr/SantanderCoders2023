{
 "cells": [
  {
   "cell_type": "markdown",
   "metadata": {
    "application/vnd.databricks.v1+cell": {
     "cellMetadata": {
      "byteLimit": 2048000,
      "rowLimit": 10000
     },
     "inputWidgets": {},
     "nuid": "09b8b956-dc92-4cb6-a366-bb534a15736f",
     "showTitle": false,
     "title": ""
    }
   },
   "source": [
    "<div style=\"text-align: left;\">\n",
    "\n",
    "## Módulo: Analytics Engineering\n",
    "    \n",
    "<br>\n",
    "\n",
    "## Aula 1 - Exercício 1"
   ]
  },
  {
   "cell_type": "markdown",
   "metadata": {
    "application/vnd.databricks.v1+cell": {
     "cellMetadata": {},
     "inputWidgets": {},
     "nuid": "ff8c8c64-7811-4deb-be3b-7273774ba0ec",
     "showTitle": false,
     "title": ""
    }
   },
   "source": [
    "#### Desenvolver um pipeline de dados para a análise de sentimento de notícias relacionadas ao Bitcoin usando dados obtidos da API Alpha Vantage (https://www.alphavantage.co/documentation/) com os seguintes passos:\n",
    "\n",
    "> #### 1: Fazer uma chamada à API Alpha Vantage com a função NEWS_SENTIMENT para obter dados de sentimento de notícias relacionadas ao Bitcoin. Exemplo a seguir:\n",
    "> #### 'https://www.alphavantage.co/query?function=NEWS_SENTIMENT&tickers=CRYPTO:BTC&time_from=20230926T0000&limit=1000&apikey=' + api_key'\n",
    "\n",
    "#### 'function=NEWS_SENTIMENT':  Este é o parâmetro que especifica a função da API que está sendo chamada, neste caso, a função \"NEWS_SENTIMENT\" que retorna informações de sentimento de notícias.\n",
    "\n",
    "#### 'tickers=CRYPTO:BTC': Neste parâmetro, é especificado o ticker do ativo financeiro que deseja ser analisado. No caso em questão, é \"CRYPTO:BTC\", indicando que análises de sentimento de notícias relacionadas ao Bitcoin estão sendo solicitadas.\n",
    "\n",
    "#### 'time_from=20230926T0000': Este parâmetro define a data e hora a partir das quais as informações de sentimento de notícias são solicitadas. No exemplo fornecido, a data é definida como 26 de setembro de 2023 às 00:00 (meia-noite).\n",
    "\n",
    "#### 'limit=1000': Este parâmetro define o número máximo de notícias a serem recuperadas. No exemplo mencionado, a busca está limitada a 1000 notícias.\n",
    "\n",
    "#### 'apikey=': Aqui é preciso adicionar a chave da API adquirida via login no site da API.\n",
    "\n",
    "#### O resultado dessa chamada à API será um conjunto de informações de sentimento de notícias relacionadas ao Bitcoin, incluindo possíveis métricas de sentimento, pontuações, resumos ou outros dados relevantes. O formato e a estrutura exatos dos dados dependem da API Alpha Vantage e das informações disponíveis em seu serviço no momento da chamada.\n",
    "\n",
    "\n",
    "\n",
    "\n",
    "\n"
   ]
  },
  {
   "cell_type": "markdown",
   "metadata": {
    "application/vnd.databricks.v1+cell": {
     "cellMetadata": {},
     "inputWidgets": {},
     "nuid": "ffc5258a-6953-4bc3-a6c0-05bca8db8197",
     "showTitle": false,
     "title": ""
    }
   },
   "source": [
    "### Exemplo da chamada"
   ]
  },
  {
   "cell_type": "code",
   "execution_count": 2,
   "metadata": {
    "application/vnd.databricks.v1+cell": {
     "cellMetadata": {
      "byteLimit": 2048000,
      "rowLimit": 10000
     },
     "inputWidgets": {},
     "nuid": "ee7ac231-d7b6-4d42-af1e-cff768473ef6",
     "showTitle": false,
     "title": ""
    }
   },
   "outputs": [],
   "source": [
    "%run ./config.ipynb"
   ]
  },
  {
   "cell_type": "code",
   "execution_count": null,
   "metadata": {
    "application/vnd.databricks.v1+cell": {
     "cellMetadata": {
      "byteLimit": 2048000,
      "rowLimit": 10000
     },
     "inputWidgets": {},
     "nuid": "6b348acb-6878-4a5a-a1f0-6118dd69de9f",
     "showTitle": false,
     "title": ""
    }
   },
   "outputs": [],
   "source": [
    "import requests \n",
    "\n",
    "url = 'https://www.alphavantage.co/query?function=NEWS_SENTIMENT&tickers=CRYPTO:BTC&time_from=20230926T0000&limit=1000&apikey=' + api_key\n",
    "r = requests.get(url)\n",
    "data = r.json()\n",
    "\n",
    "print(data)"
   ]
  },
  {
   "cell_type": "markdown",
   "metadata": {
    "application/vnd.databricks.v1+cell": {
     "cellMetadata": {},
     "inputWidgets": {},
     "nuid": "a215ada1-322e-49e0-96b0-eb1510c431e0",
     "showTitle": false,
     "title": ""
    }
   },
   "source": [
    "### Os resultados da primeira notícia encontrada:"
   ]
  },
  {
   "cell_type": "code",
   "execution_count": null,
   "metadata": {
    "application/vnd.databricks.v1+cell": {
     "cellMetadata": {
      "byteLimit": 2048000,
      "rowLimit": 10000
     },
     "inputWidgets": {},
     "nuid": "ce42bfdf-cd94-4682-906f-c95daa28676d",
     "showTitle": false,
     "title": ""
    }
   },
   "outputs": [],
   "source": [
    "data['feed'][3]"
   ]
  },
  {
   "cell_type": "markdown",
   "metadata": {
    "application/vnd.databricks.v1+cell": {
     "cellMetadata": {},
     "inputWidgets": {},
     "nuid": "fe7deae9-a674-4a9b-aef8-b3ca1dcc435e",
     "showTitle": false,
     "title": ""
    }
   },
   "source": [
    "> ### 2. Efetuado a chamada, será preciso encontrar uma chave única por notícia para evitar duplicidades no pipeline e o mínimo de informações por notícia que será necessário armazenar é o título, data de publicação e o resultado da análise de sentimento para o Bitcoin, exemplo a seguir com todas essas informações necessárias da última nóticia:"
   ]
  },
  {
   "cell_type": "code",
   "execution_count": null,
   "metadata": {
    "application/vnd.databricks.v1+cell": {
     "cellMetadata": {
      "byteLimit": 2048000,
      "rowLimit": 10000
     },
     "inputWidgets": {},
     "nuid": "55b7e457-f729-4bef-8884-5e30854c4bd5",
     "showTitle": false,
     "title": ""
    }
   },
   "outputs": [],
   "source": [
    "print(\"Resultado para a primeira notícia encontrada:\")\n",
    "print(\"Título\", data['feed'][0]['title'])\n",
    "print(\"Data de publicação\", data['feed'][0]['time_published'])\n",
    "print(\"Resultado apenas do Ticker igual ao Bitcoin ('CRYPTO:BTC')\", data['feed'][0]['ticker_sentiment'][1])      "
   ]
  },
  {
   "cell_type": "markdown",
   "metadata": {
    "application/vnd.databricks.v1+cell": {
     "cellMetadata": {},
     "inputWidgets": {},
     "nuid": "254c6535-b182-4d95-bd22-a3b584d617c4",
     "showTitle": false,
     "title": ""
    }
   },
   "source": [
    "> ### 3. Preparar um pipeline capaz de extrair e armazenar essas informações em um banco de dados usando os conceitos das camadas especializadas Bronze e Silver"
   ]
  },
  {
   "cell_type": "markdown",
   "metadata": {
    "application/vnd.databricks.v1+cell": {
     "cellMetadata": {},
     "inputWidgets": {},
     "nuid": "a5082ae6-eac0-4218-87f6-3da807c8ddb2",
     "showTitle": false,
     "title": ""
    }
   },
   "source": [
    "> ### 4. Por fim, desenvolver um pipeline de dados transformados para contabilizar a quantidade de notícias encontradas por dia, e o \"sentimento médio\" por dia na camada Gold"
   ]
  }
 ],
 "metadata": {
  "application/vnd.databricks.v1+notebook": {
   "dashboards": [],
   "language": "python",
   "notebookMetadata": {
    "pythonIndentUnit": 4
   },
   "notebookName": "Aula_6_Exercicio_1_Parte_1_Carga_em_Lotes_sem_Duplicadas",
   "widgets": {}
  },
  "kernelspec": {
   "display_name": "Python 3 (ipykernel)",
   "language": "python",
   "name": "python3"
  },
  "language_info": {
   "codemirror_mode": {
    "name": "ipython",
    "version": 3
   },
   "file_extension": ".py",
   "mimetype": "text/x-python",
   "name": "python",
   "nbconvert_exporter": "python",
   "pygments_lexer": "ipython3",
   "version": "3.9.7"
  }
 },
 "nbformat": 4,
 "nbformat_minor": 1
}
