{
 "cells": [
  {
   "cell_type": "markdown",
   "metadata": {},
   "source": [
    "## Módulo: Analytics Engineering\n",
    "    \n",
    "## Aula 3 - Parte 1"
   ]
  },
  {
   "cell_type": "markdown",
   "metadata": {},
   "source": [
    "### Programação da Aula 3:\n",
    "\n",
    "> ### 1. **O que é a \"Great Expectations\"**:\n",
    "> ### 2. **\"Great Expectations\" na prática**;\n",
    "> ### 3. **Apresentação do projeto**;\n",
    "> ### 4. **Desenvolvimento de exercício ou projeto**;\n",
    "\n",
    "#### Link para o formulário para informar os integrantes do grupo do projeto:\n",
    "https://forms.gle/xgT27QH81dxSrZ1w7\n",
    "\n",
    "#### Link para o formulário de Feedback da aula:\n",
    "https://forms.gle/rpqeKYPxbG86g8Zy9"
   ]
  },
  {
   "cell_type": "markdown",
   "metadata": {},
   "source": [
    "### Great Expectations\n",
    "\n",
    "#### O Great Expectations (GE) é uma ferramenta de validação de dados open source que ajuda a garantir a qualidade dos dados.\n",
    "\n",
    "#### Com o Great Expectations, é possível definir expectativas sobre seus dados e verificar se elas atendem ou não.\n",
    "\n",
    "#### Algumas das funcionalidades existentes incluem a capacidade de validar o esquema dos dados, garantir a integridade referencial, verificar a consistência e detectar anomalias.\n",
    "\n",
    "#### O GE é muito flexível e escalável, permitindo assim a integração nas nossas pipelines de dados, seja para validar, gerar relatórios ou até mesmo impedir que a pipeline avance gravando dados inconsistentes nas camadas mais “curadas” do Data Lake.\n",
    "\n",
    "#### Alguns pontos que podemos destacar:\n",
    "\n",
    "+ #### é possível criar testes de dados diretamente de dataframes criados com Pandas ou Spark;\n",
    "+ #### é possível gerar uma documentação dos dados em HTML de forma automática, que traz diversas informações sobre os testes executados;\n",
    "+ #### é possível salvar um conjunto de testes (suite) para serem utilizados posteriormente (checkpoints);\n",
    "+ #### podemos utilizar uma grande quantidade de expectativas já prontas, ou criar facilmente expectativas personalizadas que atendam os nossos casos de testes;\n",
    "+ #### possui uma CLI que facilita a criação dos casos de testes, ou simplemente, podemos criar codificando em Python;\n",
    "+ #### é possível conectar diretamente a fontes de origem de dados, assim validar os dados de forma mais rápida.\n",
    "\n",
    "<div style=\"text-align: center;\">\n",
    "\n",
    "<br>\n",
    "\n",
    "<img src=\"https://docs.greatexpectations.io/assets/images/gx_oss_process-050a4264f415a1bff3ceea3ac6f9b3a0.png\"  width=\"80%\" height=\"60%\">\n",
    "\n",
    "###### Fonte: https://docs.greatexpectations.io/assets/images/gx_oss_process-050a4264f415a1bff3ceea3ac6f9b3a0.png\n",
    "\n",
    "<br>\n",
    "\n",
    "<img src=\"https://docs.greatexpectations.io/assets/images/datasource_flowchart-73d07084d7c20d480f92dacb8001222f.png\"  width=\"80%\" height=\"60%\">\n",
    "\n",
    "###### Fonte: https://docs.greatexpectations.io/assets/images/datasource_flowchart-73d07084d7c20d480f92dacb8001222f.png\n",
    "<br>\n",
    "\n",
    "<img src=\"https://docs.greatexpectations.io/assets/images/checkpoint_flowchart-80a2dc06e90a4739f6cfdec60a115c1e.png\"  width=\"80%\" height=\"60%\">\n",
    "\n",
    "###### Fonte: https://docs.greatexpectations.io/assets/images/checkpoint_flowchart-80a2dc06e90a4739f6cfdec60a115c1e.png\n",
    "<br>"
   ]
  },
  {
   "cell_type": "markdown",
   "metadata": {},
   "source": [
    "### Instalação da biblioteca \"Great Expectations\""
   ]
  },
  {
   "cell_type": "code",
   "execution_count": null,
   "metadata": {},
   "outputs": [],
   "source": [
    "pip install great_expectations"
   ]
  },
  {
   "cell_type": "code",
   "execution_count": null,
   "metadata": {},
   "outputs": [],
   "source": [
    "pip show great_expectations"
   ]
  },
  {
   "cell_type": "markdown",
   "metadata": {},
   "source": [
    "### Leitura de um arquivo csv com o Pandas direto pelo \"great_expectations\""
   ]
  },
  {
   "cell_type": "code",
   "execution_count": null,
   "metadata": {},
   "outputs": [],
   "source": [
    "import great_expectations as gx\n",
    "\n",
    "df = gx.read_csv(\"F:\\ADA\\AnalyticsEngineer\\lucio\\dados\\\\autos.csv\", encoding='ISO-8859-1')\n",
    "df.head() #as funções funcionam igual"
   ]
  },
  {
   "cell_type": "markdown",
   "metadata": {},
   "source": [
    "### Ou leitura do arquivo com o Pandas e depois convertando para o formato do \"great_expectations\""
   ]
  },
  {
   "cell_type": "code",
   "execution_count": null,
   "metadata": {},
   "outputs": [],
   "source": [
    "import pandas as pd\n",
    "\n",
    "df = pd.read_csv(\"dados/autos.csv\", encoding='ISO-8859-1')\n",
    "df = gx.from_pandas(df) #de um dataframe pandas para o formato do \"great_expectations\"\n",
    "df.head()"
   ]
  },
  {
   "cell_type": "markdown",
   "metadata": {},
   "source": [
    "### Adiciona duas expectativas de tipo de coluna para a base de dados "
   ]
  },
  {
   "cell_type": "code",
   "execution_count": null,
   "metadata": {},
   "outputs": [],
   "source": [
    "#expectativa de que a coluna 'yearOfRegistration' precisa ser do tipo 'int64'\n",
    "df.expect_column_values_to_be_of_type(column='yearOfRegistration', type_='int64')\n",
    "#expectativa de que a coluna 'monthOfRegistration' precisa ser do tipo 'int64'\n",
    "df.expect_column_values_to_be_of_type(column='monthOfRegistration', type_='int64')"
   ]
  },
  {
   "cell_type": "markdown",
   "metadata": {},
   "source": [
    "### Lista com todas as expectativas disponíveis:\n",
    "https://greatexpectations.io/expectations/"
   ]
  },
  {
   "cell_type": "markdown",
   "metadata": {},
   "source": [
    "### As expectativas ficam armazenadas em um \"Expectation Suite\":"
   ]
  },
  {
   "cell_type": "code",
   "execution_count": null,
   "metadata": {},
   "outputs": [],
   "source": [
    "df.get_expectation_suite()"
   ]
  },
  {
   "cell_type": "markdown",
   "metadata": {},
   "source": [
    "### Adicionando uma nova expectativa, agora com relação a valores esperados de 1 a 12 para a coluna 'monthOfRegistration'"
   ]
  },
  {
   "cell_type": "code",
   "execution_count": null,
   "metadata": {},
   "outputs": [],
   "source": [
    "df.expect_column_values_to_be_between(\n",
    "    column=\"monthOfRegistration\",\n",
    "    min_value=1,  #valor minimo esperado\n",
    "    max_value=12, #valor maximo esperado\n",
    ")"
   ]
  },
  {
   "cell_type": "markdown",
   "metadata": {},
   "source": [
    "### Agora trabalhando com checkpoints e validadores "
   ]
  },
  {
   "cell_type": "code",
   "execution_count": null,
   "metadata": {},
   "outputs": [],
   "source": [
    "import great_expectations as gx\n",
    "\n",
    "context = gx.get_context() #inicia um contexto do \"great_expectations\"\n",
    "\n",
    "print(context)"
   ]
  },
  {
   "cell_type": "markdown",
   "metadata": {},
   "source": [
    "### Perceba que o contexto inicia sem nenhuma lista de Expectativas (as \"Expectation Suites\")"
   ]
  },
  {
   "cell_type": "code",
   "execution_count": null,
   "metadata": {},
   "outputs": [],
   "source": [
    "context.list_expectation_suite_names()"
   ]
  },
  {
   "cell_type": "markdown",
   "metadata": {},
   "source": [
    "### Cria um validador a partir da base de dados pelo arquivo csv e o Pandas"
   ]
  },
  {
   "cell_type": "code",
   "execution_count": null,
   "metadata": {},
   "outputs": [],
   "source": [
    "validator = context.sources.pandas_default.read_csv(\"F:\\ADA\\AnalyticsEngineer\\lucio\\dados\\\\autos.csv\", encoding='ISO-8859-1') #cria o validador\n",
    "\n",
    "#expectativa de que a coluna 'yearOfRegistration' precisa ser do tipo 'int64'\n",
    "validator.expect_column_values_to_be_of_type(column='yearOfRegistration', type_='int64') \n",
    "#expectativa de que a coluna 'monthOfRegistration' precisa ser do tipo 'int64'\n",
    "validator.expect_column_values_to_be_of_type(column='monthOfRegistration', type_='int64')\n",
    "\n",
    "#expectativa de valores esperados entre 1000 e 500000 para a coluna 'kilometer'\n",
    "validator.expect_column_values_to_be_between(\n",
    "    column=\"kilometer\",\n",
    "    min_value=1000,\n",
    "    max_value=5000,\n",
    ")\n",
    "\n",
    "#expectativa de valores esperados entre 1900 e 2016 para a coluna 'yearOfRegistration'\n",
    "validator.expect_column_values_to_be_between(\n",
    "    column=\"yearOfRegistration\",\n",
    "    min_value=1900,\n",
    "    max_value=2016,\n",
    ")"
   ]
  },
  {
   "cell_type": "markdown",
   "metadata": {},
   "source": [
    "### Salva a \"Expectation Suite\" criada pelo validador"
   ]
  },
  {
   "cell_type": "code",
   "execution_count": 41,
   "metadata": {},
   "outputs": [],
   "source": [
    "#o parametro \"discard_failed_expectations\" igual a \"False\" indica que mesmos as expectativas que não foram cumpridas serão salvas\n",
    "validator.save_expectation_suite(discard_failed_expectations=False) "
   ]
  },
  {
   "cell_type": "code",
   "execution_count": null,
   "metadata": {},
   "outputs": [],
   "source": [
    "#agora pode se observer que a \"Expectation Suite\" está disponível no \"contexto\"\n",
    "context.list_expectation_suite_names()"
   ]
  },
  {
   "cell_type": "markdown",
   "metadata": {},
   "source": [
    "### Cria um \"checkpoint\" a partir do resultado atual do validador"
   ]
  },
  {
   "cell_type": "code",
   "execution_count": 43,
   "metadata": {},
   "outputs": [],
   "source": [
    "checkpoint = context.add_or_update_checkpoint(name=\"primeiro_checkpoint\", validator=validator)"
   ]
  },
  {
   "cell_type": "markdown",
   "metadata": {},
   "source": [
    "### Processa esse \"checkpoint\""
   ]
  },
  {
   "cell_type": "code",
   "execution_count": null,
   "metadata": {},
   "outputs": [],
   "source": [
    "checkpoint_result = checkpoint.run()"
   ]
  },
  {
   "cell_type": "markdown",
   "metadata": {},
   "source": [
    "### Disponibiliza uma documentação web com as informações das expectativas e testes dos \"checkpoints\" no link indicado"
   ]
  },
  {
   "cell_type": "code",
   "execution_count": null,
   "metadata": {},
   "outputs": [],
   "source": [
    "context.build_data_docs()"
   ]
  },
  {
   "cell_type": "markdown",
   "metadata": {},
   "source": [
    "### Continuação dos testes com a adição de uma nova expectativa"
   ]
  },
  {
   "cell_type": "code",
   "execution_count": null,
   "metadata": {},
   "outputs": [],
   "source": [
    "#expectativa de valores esperados entre 0 e 30000 para a coluna 'powerPS'\n",
    "validator.expect_column_values_to_be_between(\n",
    "    column=\"powerPS\",\n",
    "    min_value=0,\n",
    "    max_value=300,\n",
    ")"
   ]
  },
  {
   "cell_type": "markdown",
   "metadata": {},
   "source": [
    "### Salva a novo conjunto de expectativas (\"Expectation Suite\") e processa mais um \"checkpoint\""
   ]
  },
  {
   "cell_type": "code",
   "execution_count": 48,
   "metadata": {},
   "outputs": [],
   "source": [
    "validator.save_expectation_suite(discard_failed_expectations=False)"
   ]
  },
  {
   "cell_type": "code",
   "execution_count": 50,
   "metadata": {},
   "outputs": [],
   "source": [
    "checkpoint = context.add_or_update_checkpoint(name=\"segundo_checkpoint\", validator=validator)"
   ]
  },
  {
   "cell_type": "code",
   "execution_count": null,
   "metadata": {},
   "outputs": [],
   "source": [
    "checkpoint_result = checkpoint.run()"
   ]
  }
 ],
 "metadata": {
  "kernelspec": {
   "display_name": "Python 3 (ipykernel)",
   "language": "python",
   "name": "python3"
  },
  "language_info": {
   "codemirror_mode": {
    "name": "ipython",
    "version": 3
   },
   "file_extension": ".py",
   "mimetype": "text/x-python",
   "name": "python",
   "nbconvert_exporter": "python",
   "pygments_lexer": "ipython3",
   "version": "3.9.7"
  }
 },
 "nbformat": 4,
 "nbformat_minor": 2
}
