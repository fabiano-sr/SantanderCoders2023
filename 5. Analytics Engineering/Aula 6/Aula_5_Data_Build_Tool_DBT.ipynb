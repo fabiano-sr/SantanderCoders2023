{
 "cells": [
  {
   "cell_type": "markdown",
   "metadata": {},
   "source": [
    "## Módulo: Analytics Engineering\n",
    "    \n",
    "## Aula 5\n"
   ]
  },
  {
   "cell_type": "markdown",
   "metadata": {},
   "source": [
    "### Programação da Aula 5:\n",
    "\n",
    "> ### 1. **O que é o Data Build Tool - DBT**;\n",
    "> ### 2. **DBT na prática**;\n",
    "> ### 3. **Desenvolvimento do projeto final**.\n",
    "\n",
    "#### Link para o formulário para informar os integrantes do grupo do projeto:\n",
    "https://forms.gle/xgT27QH81dxSrZ1w7\n",
    "\n",
    "#### Link para o formulário de Feedback da aula:\n",
    "https://forms.gle/TTcxvxQTUYAfc6kn7"
   ]
  },
  {
   "cell_type": "markdown",
   "metadata": {},
   "source": [
    "## O que é o Data Build Tool - DBT\n",
    "\n",
    "### O DBT é uma ferramenta de construção de dados que nos permite definir, testar e documentar nossas transformações de dados. Com esta ferramenta, podemos definir modelos de dados, transformar e preparar dados, e também testar nossas transformações para garantir que nossos dados estejam corretos.\n",
    "\n",
    "<div style=\"text-align: center;\">\n",
    "\n",
    "<br>\n",
    "\n",
    "<img src=\"https://www.analytics8.com/wp-content/uploads/2022/08/dbt-ecosystem-overview-Analytics8-scaled.jpg\"  width=\"80%\" height=\"60%\">\n"
   ]
  },
  {
   "cell_type": "markdown",
   "metadata": {},
   "source": [
    "### Ambiente virtual Python - Comandos executados no terminal\n",
    "\n",
    "+ python -m venv venv \n",
    "+ .\\venv\\Scripts\\activate\n"
   ]
  },
  {
   "cell_type": "markdown",
   "metadata": {},
   "source": [
    "### criar um banco de dados no Postgres\n",
    "\n",
    "+ create database postgres demo_dbt\n"
   ]
  },
  {
   "cell_type": "markdown",
   "metadata": {},
   "source": [
    "### DBT na prática"
   ]
  },
  {
   "cell_type": "markdown",
   "metadata": {},
   "source": [
    "### Instalação da biblioteca do DBT com o plugin do Postgres"
   ]
  },
  {
   "cell_type": "code",
   "execution_count": null,
   "metadata": {},
   "outputs": [],
   "source": [
    "pip install dbt-core dbt-postgres"
   ]
  },
  {
   "cell_type": "code",
   "execution_count": null,
   "metadata": {},
   "outputs": [],
   "source": [
    "dbt --version"
   ]
  },
  {
   "cell_type": "markdown",
   "metadata": {},
   "source": [
    "dbt init demo_dbt"
   ]
  },
  {
   "cell_type": "markdown",
   "metadata": {},
   "source": [
    "#### Verificar se foram criados as pastas:\n",
    "\n",
    "+ ##### analysis\n",
    "+ ##### seeds\n",
    "+ ##### macros\n",
    "+ ##### models\n",
    "+ ##### tests\n",
    "\n",
    "#### Caso contrário criar"
   ]
  },
  {
   "cell_type": "markdown",
   "metadata": {},
   "source": [
    "#### Criar o arquivo dbt_project.yml - caso não exista\n",
    "\n",
    "##### Conteúdo:\n",
    "\n"
   ]
  },
  {
   "cell_type": "code",
   "execution_count": null,
   "metadata": {},
   "outputs": [],
   "source": [
    "default:\n",
    "  outputs:\n",
    "    dev:\n",
    "      dbname: demo_dbt\n",
    "      host: localhost\n",
    "      pass: ada\n",
    "      port: 5432\n",
    "      schema: public\n",
    "      threads: 10\n",
    "      type: postgres\n",
    "      user: postgres\n",
    "  target: dev\n",
    "\n",
    "dbt_project.yml\n",
    "name: 'demo_dbt'\n",
    "\n",
    "config-version: 2\n",
    "version: '0.1'\n",
    "\n",
    "profile: 'default'\n",
    "\n",
    "model-paths: [\"models\"]\n",
    "seed-paths: [\"seeds\"]\n",
    "test-paths: [\"tests\"]\n",
    "analysis-paths: [\"analysis\"]\n",
    "macro-paths: [\"macros\"]\n",
    "\n",
    "target-path: \"target\"\n",
    "clean-targets:\n",
    "    - \"target\"\n",
    "    - \"dbt_modules\"\n",
    "    - \"logs\"\n",
    "\n",
    "require-dbt-version: [\">=1.0.0\", \"<2.0.0\"]\n",
    "\n",
    "models:\n",
    "  demo_dbt:\n",
    "      materialized: table\n",
    "      staging:\n",
    "        materialized: view\n"
   ]
  },
  {
   "cell_type": "markdown",
   "metadata": {},
   "source": [
    "#### Criar o arquivo C:\\Users\\ljsmo\\\\.dbt\\profiles.yml - caso não exista\n",
    "\n",
    "##### Conteúdo:\n",
    "\n",
    "##### trocar ljsmo para o seu usuário"
   ]
  },
  {
   "cell_type": "code",
   "execution_count": null,
   "metadata": {},
   "outputs": [],
   "source": [
    "default:\n",
    "  outputs:\n",
    "    dev:\n",
    "      dbname: demo_dbt\n",
    "      host: localhost\n",
    "      pass: ada\n",
    "      port: 5432\n",
    "      schema: public\n",
    "      threads: 10\n",
    "      type: postgres\n",
    "      user: postgres\n",
    "  target: dev\n"
   ]
  },
  {
   "cell_type": "code",
   "execution_count": 3,
   "metadata": {},
   "outputs": [],
   "source": [
    "dbt debug\n",
    "\n"
   ]
  },
  {
   "cell_type": "markdown",
   "metadata": {},
   "source": [
    "#### Copiar os arquivos para a pasta seed\n",
    "\n",
    "+ ##### raw_customers.csv\n",
    "+ ##### raw_orders.csv\n",
    "+ ##### raw_payments.csv"
   ]
  },
  {
   "cell_type": "code",
   "execution_count": 4,
   "metadata": {},
   "outputs": [],
   "source": [
    "dbt seed\n",
    "\n"
   ]
  },
  {
   "cell_type": "markdown",
   "metadata": {},
   "source": [
    "##### Verificar a criação no postgres"
   ]
  },
  {
   "cell_type": "markdown",
   "metadata": {},
   "source": [
    "##### Criar a pasta postgres_sample_data dentro da pasta models \n",
    "\n",
    "##### criar arquivo schema.yml - Conteúdo:"
   ]
  },
  {
   "cell_type": "code",
   "execution_count": null,
   "metadata": {},
   "outputs": [],
   "source": [
    "version: 2\n",
    "\n",
    "sources:\n",
    "  - name: demo_dbt\n",
    "    description: 'Exemplo de dados fornecido pelo Postgres'\n",
    "    database: demo_dbt\n",
    "    schema: public \n",
    "    tables:\n",
    "      - name: raw_orders\n",
    "        description: 'Detalhes sobre as vendas na Loja.\n",
    "\n"
   ]
  },
  {
   "cell_type": "markdown",
   "metadata": {},
   "source": [
    "##### Criar o arquivo postgres_sample_data__store_sales.sql dentro da pasta models dentro da pasta criada anteriormente - Conteúdo do arquivo:"
   ]
  },
  {
   "cell_type": "code",
   "execution_count": null,
   "metadata": {},
   "outputs": [],
   "source": [
    "with source_store_sales as (\n",
    "    select * from {{ source('demo_dbt', 'raw_orders')}}\n",
    "),\n",
    "\n",
    "\n",
    "final as (\n",
    "    select * from source_store_sales\n",
    ")\n",
    "\n",
    "\n",
    "select * from final\n",
    "\n"
   ]
  },
  {
   "cell_type": "code",
   "execution_count": null,
   "metadata": {},
   "outputs": [],
   "source": [
    "dbt run"
   ]
  },
  {
   "cell_type": "markdown",
   "metadata": {},
   "source": [
    "##### Na pasta target → compiled → demo_dbt → models → postgres_sample_data existe um arquivo sql compilado pelo dbt\n"
   ]
  },
  {
   "cell_type": "markdown",
   "metadata": {},
   "source": [
    "#### Vamos alterar o schema do postgres para ficar de acordo com o assunto de qualidade de dados - Vamos chamar de staging"
   ]
  },
  {
   "cell_type": "markdown",
   "metadata": {},
   "source": [
    "##### No arquivo dbt_project.yml alterar o final para:\n",
    "\n"
   ]
  },
  {
   "cell_type": "code",
   "execution_count": null,
   "metadata": {},
   "outputs": [],
   "source": [
    "models:\n",
    "  demo_dbt:\n",
    "        +materialized: view\n",
    "        +schema: staging #PUBLIC_staging"
   ]
  },
  {
   "cell_type": "code",
   "execution_count": null,
   "metadata": {},
   "outputs": [],
   "source": [
    "dbt run"
   ]
  },
  {
   "cell_type": "markdown",
   "metadata": {},
   "source": [
    "Criando macro para gerar schema\n",
    "+ Criar arquivo: generate_schema_name.sql dentro da pasta macros, conteúdo:\n",
    "\n"
   ]
  },
  {
   "cell_type": "code",
   "execution_count": null,
   "metadata": {},
   "outputs": [],
   "source": [
    "{% macro generate_schema_name(custom_schema_name, node) -%}\n",
    "\n",
    "\n",
    "    {%- set default_schema = target.schema -%}\n",
    "    {%- if custom_schema_name is none -%}\n",
    "\n",
    "\n",
    "        {{ default_schema }}\n",
    "\n",
    "\n",
    "    {%- else -%}\n",
    "\n",
    "\n",
    "        {{ custom_schema_name | trim }}\n",
    "\n",
    "\n",
    "    {%- endif -%}\n",
    "\n",
    "\n",
    "{%- endmacro %}"
   ]
  },
  {
   "cell_type": "markdown",
   "metadata": {},
   "source": [
    "#### Criar a pasta staging dentro de models, colocar dentro da pasta os arquivos:\n",
    "\n",
    "+ postgres_sample_data__store_sales.sql\n",
    "+ schema.yml (pasta postgres_sample_data)\n",
    "\n",
    "#### em dbt_project.yml mudar para"
   ]
  },
  {
   "cell_type": "code",
   "execution_count": null,
   "metadata": {},
   "outputs": [],
   "source": [
    "models:\n",
    "  demo_dbt:\n",
    "    staging:\n",
    "        +materialized: view\n",
    "        +schema: staging #PUBLIC_staging\n"
   ]
  },
  {
   "cell_type": "markdown",
   "metadata": {},
   "source": [
    "##### staging: é coincidente com o nome da pasta em modesls"
   ]
  },
  {
   "cell_type": "code",
   "execution_count": null,
   "metadata": {},
   "outputs": [],
   "source": [
    "dbt run"
   ]
  },
  {
   "cell_type": "markdown",
   "metadata": {},
   "source": [
    "##### Alterar o schema.yml no final para:"
   ]
  },
  {
   "cell_type": "code",
   "execution_count": null,
   "metadata": {},
   "outputs": [],
   "source": [
    "    tables:\n",
    "      - name: raw_orders\n",
    "        description: 'Detalhes sobre as vendas na Loja.'\n",
    "      - name: raw_payments\n",
    "        description: 'Detalhes sobre os pagamentos das vendas na Loja.'"
   ]
  },
  {
   "cell_type": "markdown",
   "metadata": {},
   "source": [
    "##### dentro do models/staging\n",
    "\n",
    "+ ##### Criar um arquivo example_payment_method.sql"
   ]
  },
  {
   "cell_type": "code",
   "execution_count": null,
   "metadata": {},
   "outputs": [],
   "source": [
    "{{ config(materialized='table' )}}\n",
    "\n",
    "\n",
    "with source_payment_method as (\n",
    "    select distinct payment_method from {{ source('demo_dbt', 'raw_payments')}}\n",
    "),\n",
    "\n",
    "\n",
    "final as (\n",
    "    select distinct payment_method from source_payment_method\n",
    ")\n",
    "\n",
    "\n",
    "select distinct payment_method from final\n"
   ]
  },
  {
   "cell_type": "code",
   "execution_count": null,
   "metadata": {},
   "outputs": [],
   "source": [
    "dbt run"
   ]
  },
  {
   "cell_type": "markdown",
   "metadata": {},
   "source": [
    "#### Criar em models → staging → exemple_vendas_join.sql"
   ]
  },
  {
   "cell_type": "code",
   "execution_count": null,
   "metadata": {},
   "outputs": [],
   "source": [
    "{{ config(materialized='table' )}}\n",
    "\n",
    "\n",
    "with\n",
    "ordem as (\n",
    "    select id, order_date, status from {{ source('demo_dbt', 'raw_orders')}} where status = 'completed'\n",
    "),\n",
    "\n",
    "\n",
    "payment as (\n",
    "    select order_id, payment_method, amount from {{ source('demo_dbt', 'raw_payments')}}\n",
    "),\n",
    "\n",
    "\n",
    "total as (\n",
    "    select\n",
    "        ordem.order_date,\n",
    "        payment.payment_method,\n",
    "        sum(payment.amount) as total_data\n",
    "    from ordem\n",
    "    left join payment on ordem.id = payment.order_id\n",
    "    group by ordem.order_date, payment.payment_method\n",
    "    order by ordem.order_date\n",
    "\n",
    "\n",
    "),\n",
    "\n",
    "\n",
    "final as (\n",
    "    select * from total\n",
    ")\n",
    "\n",
    "\n",
    "select * from final"
   ]
  },
  {
   "cell_type": "code",
   "execution_count": null,
   "metadata": {},
   "outputs": [],
   "source": [
    "dbt run"
   ]
  },
  {
   "cell_type": "markdown",
   "metadata": {},
   "source": [
    "#### Testes\n",
    "\n",
    "+ ##### Em tests criar um arquivo: payments_zero.sql"
   ]
  },
  {
   "cell_type": "code",
   "execution_count": null,
   "metadata": {},
   "outputs": [],
   "source": [
    "SELECT id\n",
    "from {{ source('demo_dbt', 'raw_payments')}}\n",
    "where amount <= 0"
   ]
  },
  {
   "cell_type": "code",
   "execution_count": null,
   "metadata": {},
   "outputs": [],
   "source": [
    "dbt test"
   ]
  },
  {
   "cell_type": "markdown",
   "metadata": {},
   "source": [
    "##### Teste Generic\n",
    "+ ##### em schema.yml acrescentar"
   ]
  },
  {
   "cell_type": "code",
   "execution_count": null,
   "metadata": {},
   "outputs": [],
   "source": [
    " - name: raw_customers\n",
    "        description: 'Detalhes dos clientes da Loja.'\n"
   ]
  },
  {
   "cell_type": "markdown",
   "metadata": {},
   "source": [
    "+ ##### Criar uma pasta generic em tests\n",
    "+ ##### criar um arquivo:string_not_empty.sql"
   ]
  },
  {
   "cell_type": "code",
   "execution_count": null,
   "metadata": {},
   "outputs": [],
   "source": [
    "string_not_empty.sql\n",
    "{% test string_not_empty(model, column_name) %}\n",
    "    select {{ column_name }}\n",
    "    from {{ model }}\n",
    "    where TRIM({{ column_name }}) = ''\n",
    "{% endtest %}\n"
   ]
  },
  {
   "cell_type": "markdown",
   "metadata": {},
   "source": [
    "+ ##### criar em models arquivo yml: oms_config.yml"
   ]
  },
  {
   "cell_type": "code",
   "execution_count": null,
   "metadata": {},
   "outputs": [],
   "source": [
    "models:\n",
    "  - name: raw_customers\n",
    "    columns:\n",
    "      - name: last_name\n",
    "        tests:\n",
    "          - string_not_empty\n",
    "\n",
    "\n",
    "  - name: raw_orders\n",
    "    columns:\n",
    "      - name: id\n",
    "        tests:\n",
    "          - unique\n",
    "          - not_null\n",
    "  - name: id\n",
    "    tests:\n",
    "      - relationships:\n",
    "          to: ref('raw_orders')\n",
    "          field: user_id\n",
    "  - name: raw_payments\n",
    "    columns:\n",
    "      - name: payment_method\n",
    "        tests:\n",
    "          - accepted_values:\n",
    "             values: ['bank_transfer', 'coupon', 'credit_card']\n"
   ]
  },
  {
   "cell_type": "code",
   "execution_count": null,
   "metadata": {},
   "outputs": [],
   "source": [
    "dbt test"
   ]
  },
  {
   "cell_type": "markdown",
   "metadata": {},
   "source": [
    "#### Macros\n",
    "\n",
    "+ ##### Criar um arquivo dentro de macros: Total_vendas.sql"
   ]
  },
  {
   "cell_type": "code",
   "execution_count": null,
   "metadata": {},
   "outputs": [],
   "source": [
    "{% macro generate_total_vendas_por_metodo_pagamento(table_name) %}\n",
    "select\n",
    "    payment_method,\n",
    "    sum(amount) as total\n",
    "from {{ source  ('demo_dbt', table_name)}}\n",
    "group by payment_method\n",
    "{% endmacro %}\n"
   ]
  },
  {
   "cell_type": "markdown",
   "metadata": {},
   "source": [
    "+ ##### dentro de models staging criar arquivo: tot_vendas.sql"
   ]
  },
  {
   "cell_type": "code",
   "execution_count": null,
   "metadata": {},
   "outputs": [],
   "source": [
    "{{ generate_total_vendas_por_metodo_pagamento('raw_payments') }}"
   ]
  },
  {
   "cell_type": "code",
   "execution_count": null,
   "metadata": {},
   "outputs": [],
   "source": [
    "dbt run"
   ]
  },
  {
   "cell_type": "markdown",
   "metadata": {},
   "source": [
    "#### Pacotes -  https://hub.getdbt.com/dbt-labs/dbt_utils/latest/\n",
    "\n",
    "+ ##### criar na raiz um arquivo packages.yml com o conteúdo do pacote a instalar:"
   ]
  },
  {
   "cell_type": "code",
   "execution_count": null,
   "metadata": {},
   "outputs": [],
   "source": [
    "packages:\n",
    "  - package: dbt-labs/dbt_utils\n",
    "    version: 1.1.1"
   ]
  },
  {
   "cell_type": "code",
   "execution_count": null,
   "metadata": {},
   "outputs": [],
   "source": [
    "dbt deps"
   ]
  },
  {
   "cell_type": "markdown",
   "metadata": {},
   "source": [
    "#### escolhendo o deduplicate: https://github.com/dbt-labs/dbt-utils/tree/1.1.1/#deduplicate-source\n",
    "\n",
    "+ ##### Criar um arquivo em model staging: dbt_pac.sql"
   ]
  },
  {
   "cell_type": "code",
   "execution_count": null,
   "metadata": {},
   "outputs": [],
   "source": [
    "{{ dbt_utils.deduplicate(\n",
    "    relation=source('demo_dbt', 'raw_orders'),\n",
    "    partition_by='user_id',\n",
    "    order_by=\"order_date desc\",\n",
    "   )\n",
    "}}\n"
   ]
  },
  {
   "cell_type": "code",
   "execution_count": null,
   "metadata": {},
   "outputs": [],
   "source": [
    "dbt run"
   ]
  },
  {
   "cell_type": "markdown",
   "metadata": {},
   "source": [
    "#### Documentação"
   ]
  },
  {
   "cell_type": "code",
   "execution_count": null,
   "metadata": {},
   "outputs": [],
   "source": [
    "dbt docs generate\n",
    "dbt docs serve"
   ]
  }
 ],
 "metadata": {
  "kernelspec": {
   "display_name": "ada",
   "language": "python",
   "name": "python3"
  },
  "language_info": {
   "codemirror_mode": {
    "name": "ipython",
    "version": 3
   },
   "file_extension": ".py",
   "mimetype": "text/x-python",
   "name": "python",
   "nbconvert_exporter": "python",
   "pygments_lexer": "ipython3",
   "version": "3.9.7"
  }
 },
 "nbformat": 4,
 "nbformat_minor": 2
}
