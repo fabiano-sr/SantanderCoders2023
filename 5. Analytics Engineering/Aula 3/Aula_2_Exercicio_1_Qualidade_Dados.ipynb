{
 "cells": [
  {
   "cell_type": "markdown",
   "metadata": {
    "application/vnd.databricks.v1+cell": {
     "cellMetadata": {
      "byteLimit": 2048000,
      "rowLimit": 10000
     },
     "inputWidgets": {},
     "nuid": "09b8b956-dc92-4cb6-a366-bb534a15736f",
     "showTitle": false,
     "title": ""
    }
   },
   "source": [
    "## Módulo: Analytics Engineering\n",
    "    \n",
    "## Aula 2 - Exercício 1"
   ]
  },
  {
   "cell_type": "markdown",
   "metadata": {
    "application/vnd.databricks.v1+cell": {
     "cellMetadata": {},
     "inputWidgets": {},
     "nuid": "ff8c8c64-7811-4deb-be3b-7273774ba0ec",
     "showTitle": false,
     "title": ""
    }
   },
   "source": [
    "#### Preparar um pipeline com as camadas \"bronze\", \"silver\" e \"gold\" para o dataset sobre informações de clientes em um banco. O dataset está disponível para download no seguinte website: \"https://www.kaggle.com/datasets/parisrohan/credit-score-classification\".\n",
    "\n",
    "#### Efetuar a limpeza de dados necessária e garantir a qualidade de dados com todos os conceitos apresentados até agora.\n",
    "\n",
    "#### Armazenar todas as camadas em um banco de dados no PostgreSQL."
   ]
  },
  {
   "cell_type": "markdown",
   "metadata": {
    "application/vnd.databricks.v1+cell": {
     "cellMetadata": {},
     "inputWidgets": {},
     "nuid": "ffc5258a-6953-4bc3-a6c0-05bca8db8197",
     "showTitle": false,
     "title": ""
    }
   },
   "source": [
    "#### Dicionário de Dados\n",
    "\n",
    "- **Age (Idade):** Representa a idade da pessoa.\n",
    "- **Annual_Income (Renda Anual):** Representa a renda anual da pessoa.\n",
    "- **Monthly_Inhand_Salary (Salário Mensal Líquido):** Representa o salário base mensal de uma pessoa.\n",
    "- **Num_Bank_Accounts (Número de Contas Bancárias):** Representa o número de contas bancárias que uma pessoa possui.\n",
    "- **Num_Credit_Card (Número de Cartões de Crédito):** Representa o número de outros cartões de crédito que uma pessoa possui.\n",
    "- **Interest_Rate (Taxa de Juros):** Representa a taxa de juros no cartão de crédito (porcentagem).\n",
    "- **Num_of_Loan (Número de Empréstimos):** Representa o número de empréstimos obtidos no banco.\n",
    "- **Delay_from_due_date (Atraso a partir da Data de Vencimento):** Representa o número médio de dias de atraso a partir da data de pagamento (dias).\n",
    "- **Num_of_Delayed_Payment (Número de Pagamentos Atrasados):** Representa o número médio de pagamentos atrasados por uma pessoa.\n",
    "- **Changed_Credit_Limit (Alteração no Limite de Crédito):** Representa a alteração percentual no limite de crédito do cartão (porcentagem).\n",
    "- **Num_Credit_Inquiries (Número de Consultas de Crédito):** Representa o número de consultas de cartão de crédito.\n",
    "- **Credit_Mix (Mix de Crédito):** Representa a classificação da mistura de créditos (Ruim, Padrão, Bom).\n",
    "- **Outstanding_Debt (Dívida Pendente):** Representa a dívida restante a ser paga.\n",
    "- **Credit_Utilization_Ratio (Taxa de Utilização de Crédito):** Representa a taxa de utilização do cartão de crédito (porcentagem).\n",
    "- **Credit_History_Age (Idade da História de Crédito):** Representa a idade da história de crédito da pessoa (dias).\n",
    "- **Payment_of_Min_Amount (Pagamento do Valor Mínimo):** Representa se apenas o valor mínimo foi pago pela pessoa.\n",
    "- **Total_EMI_per_month (Total de EMI Mensal):** Representa os pagamentos mensais de EMI.\n",
    "- **Amount_invested_monthly (Valor Investido Mensalmente):** Representa o valor investido mensalmente pelo cliente.\n",
    "- **Monthly_Balance (Saldo Mensal):** Representa o valor do saldo mensal do cliente."
   ]
  },
  {
   "cell_type": "code",
   "execution_count": null,
   "metadata": {
    "application/vnd.databricks.v1+cell": {
     "cellMetadata": {
      "byteLimit": 2048000,
      "rowLimit": 10000
     },
     "inputWidgets": {},
     "nuid": "ee7ac231-d7b6-4d42-af1e-cff768473ef6",
     "showTitle": false,
     "title": ""
    }
   },
   "outputs": [],
   "source": [
    "import pandas as pd\n",
    "\n",
    "df = pd.read_csv(\"dados/test.csv\")\n",
    "df.head(3)"
   ]
  }
 ],
 "metadata": {
  "application/vnd.databricks.v1+notebook": {
   "dashboards": [],
   "language": "python",
   "notebookMetadata": {
    "pythonIndentUnit": 4
   },
   "notebookName": "Aula_6_Exercicio_1_Parte_1_Carga_em_Lotes_sem_Duplicadas",
   "widgets": {}
  },
  "kernelspec": {
   "display_name": "Python 3 (ipykernel)",
   "language": "python",
   "name": "python3"
  },
  "language_info": {
   "codemirror_mode": {
    "name": "ipython",
    "version": 3
   },
   "file_extension": ".py",
   "mimetype": "text/x-python",
   "name": "python",
   "nbconvert_exporter": "python",
   "pygments_lexer": "ipython3",
   "version": "3.7.16"
  }
 },
 "nbformat": 4,
 "nbformat_minor": 1
}
