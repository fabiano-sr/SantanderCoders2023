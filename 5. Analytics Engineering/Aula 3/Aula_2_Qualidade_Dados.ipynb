{
 "cells": [
  {
   "cell_type": "markdown",
   "id": "2a806ddc",
   "metadata": {},
   "source": [
    "## Módulo: Analytics Engineering\n",
    "\n",
    "## Aula 2 - Parte 1"
   ]
  },
  {
   "cell_type": "markdown",
   "id": "961dbaed",
   "metadata": {},
   "source": [
    "### Programação da Aula 2:\n",
    "\n",
    "> ### 1. **Princípios de qualidade de dados e seus benefícios**:\n",
    "> ### 2. **Qualidade de dados na prática**;\n",
    "> ### 3. **Desenvolvimento de exercício**;\n",
    "\n",
    "#### Link para o formulário de Feedback da aula:\n",
    "https://forms.gle/pYhxH5MMAZYPCwvVA"
   ]
  },
  {
   "cell_type": "markdown",
   "id": "28b1ef5a",
   "metadata": {},
   "source": [
    "### **Princípios da qualidade de dados**\n",
    "\n",
    "- **Precisão:** Os dados precisos são dados que estão corretos e livres de erros. Eles são baseados em fontes confiáveis e são atualizados regularmente. A precisão dos dados pode ser afetada por erros de entrada manual, integração de dados de várias fontes, omissão de dados e duplicação de dados. Para garantir a precisão dos dados, é importante realizar verificações regulares dos dados para identificar e corrigir erros.\n",
    "\n",
    "- **Consistência:** Os dados consistentes são dados que estão no mesmo formato e mantêm as mesmas definições em todos os sistemas e processos. A consistência dos dados pode ser afetada pela falta de padronização dos dados, pela variação dos nomes de campos e pela falta de integridade referencial. Para garantir a consistência dos dados, é importante estabelecer padrões para a entrada de dados e verificar regularmente se esses padrões estão sendo seguidos.\n",
    "\n",
    "- **Confiabilidade:** Os dados confiáveis são dados que são precisos e consistentes, mas também são acessíveis e seguros. Eles são protegidos contra perda, roubo e corrupção, e podem ser acessados por usuários autorizados. A confiabilidade dos dados pode ser afetada pela falta de segurança de dados, pela falta de backups regulares e pela falta de controle de acesso aos dados. Para garantir a confiabilidade dos dados, é importante implementar práticas de segurança de dados, como backups regulares e controles de acesso.\n",
    "\n",
    "- **Relevância:** Os dados relevantes são dados que são necessários para as decisões empresariais. Eles são coletados com base nos requisitos do negócio e são relevantes para os usuários finais. A relevância dos dados pode ser afetada pela coleta de dados desnecessários ou pela falta de coleta de dados importantes. Para garantir a relevância dos dados, é importante estabelecer um processo para identificar os requisitos de dados do negócio e coletar apenas os dados necessários.\n",
    "\n",
    "\n",
    "### **Benefícios da qualidade de dados**\n",
    "\n",
    "- **Tomada de decisão mais informada:** Dados precisos, consistentes, confiáveis e relevantes permitem que as empresas tomem decisões informadas com base em informações precisas e confiáveis.\n",
    "\n",
    "- **Redução de custos:** Dados de baixa qualidade podem levar a decisões equivocadas, o que pode levar a custos adicionais para a empresa. Ao melhorar a qualidade dos dados, as empresas podem reduzir os custos desnecessários associados à tomada de decisão equivocada.\n",
    "\n",
    "- **Melhoria da eficiência:** Dados precisos e consistentes podem ajudar a melhorar a eficiência dos processos empresariais, reduzindo o tempo gasto na correção de erros e retrabalho.\n",
    "\n",
    "- **Aumento da satisfação do cliente:** Dados precisos e relevantes permitem que as empresas entendam melhor as necessidades de seus clientes e ofereçam soluções personalizadas para atender a essas necessidades. Isso pode levar a um aumento na satisfação do cliente e na fidelidade à marca.\n",
    "\n"
   ]
  },
  {
   "cell_type": "markdown",
   "id": "9d0a0895",
   "metadata": {},
   "source": [
    "### **Qualidade de dados na prática**"
   ]
  },
  {
   "cell_type": "markdown",
   "id": "70f259da",
   "metadata": {},
   "source": [
    "### Instalação das biblioteca para verificação do perfil dos dados"
   ]
  },
  {
   "cell_type": "code",
   "execution_count": null,
   "id": "f3bbce94",
   "metadata": {},
   "outputs": [],
   "source": []
  },
  {
   "cell_type": "markdown",
   "id": "8e32aec0",
   "metadata": {},
   "source": [
    "### Chamada da bibliotecas"
   ]
  },
  {
   "cell_type": "code",
   "execution_count": 11,
   "id": "0592af1d",
   "metadata": {},
   "outputs": [],
   "source": []
  },
  {
   "cell_type": "markdown",
   "id": "7dc76dfb",
   "metadata": {},
   "source": [
    "### Dataset sobre preço de carros usados:\n",
    "https://data.world/data-society/used-cars-data"
   ]
  },
  {
   "cell_type": "code",
   "execution_count": null,
   "id": "b7346035",
   "metadata": {},
   "outputs": [],
   "source": []
  },
  {
   "cell_type": "markdown",
   "id": "edbc22de",
   "metadata": {},
   "source": [
    "### Comando \"describe\" que retorna algumas informações do DataFrame"
   ]
  },
  {
   "cell_type": "code",
   "execution_count": null,
   "id": "4434f10b",
   "metadata": {},
   "outputs": [],
   "source": []
  },
  {
   "cell_type": "markdown",
   "id": "dead061d",
   "metadata": {},
   "source": [
    "### Relatório com informações do perfil dos dados a partir da biblioteca \"ydata_profiling\""
   ]
  },
  {
   "cell_type": "code",
   "execution_count": null,
   "id": "be50698b",
   "metadata": {},
   "outputs": [],
   "source": []
  },
  {
   "cell_type": "markdown",
   "id": "0fa7cf83",
   "metadata": {},
   "source": [
    "### Tipos de cada coluna no Dataframe"
   ]
  },
  {
   "cell_type": "code",
   "execution_count": null,
   "id": "700a2408",
   "metadata": {},
   "outputs": [],
   "source": []
  },
  {
   "cell_type": "markdown",
   "id": "58d417c8",
   "metadata": {},
   "source": [
    "### Cria um dataframe copia para começar a limpeza dos dados. O primeiro passo será definir o tipo das colunas que não serão de texto."
   ]
  },
  {
   "cell_type": "code",
   "execution_count": 128,
   "id": "58479dcd",
   "metadata": {},
   "outputs": [],
   "source": []
  },
  {
   "cell_type": "markdown",
   "id": "b47cd8d6",
   "metadata": {},
   "source": [
    "### Verifica os novos tipos de cada coluna"
   ]
  },
  {
   "cell_type": "code",
   "execution_count": null,
   "id": "20213798",
   "metadata": {},
   "outputs": [],
   "source": []
  },
  {
   "cell_type": "markdown",
   "id": "f8edd4f6",
   "metadata": {},
   "source": [
    "### Função para verificar os casos nulos"
   ]
  },
  {
   "cell_type": "code",
   "execution_count": 130,
   "id": "8f1e7af9",
   "metadata": {},
   "outputs": [],
   "source": []
  },
  {
   "cell_type": "code",
   "execution_count": null,
   "id": "aa684cc1",
   "metadata": {},
   "outputs": [],
   "source": []
  },
  {
   "cell_type": "markdown",
   "id": "0f92af67",
   "metadata": {},
   "source": [
    "### Preenchimento dos campos nulos com valores fixos "
   ]
  },
  {
   "cell_type": "code",
   "execution_count": null,
   "id": "f7b115af",
   "metadata": {},
   "outputs": [],
   "source": []
  },
  {
   "cell_type": "code",
   "execution_count": 133,
   "id": "64f93b60",
   "metadata": {},
   "outputs": [],
   "source": []
  },
  {
   "cell_type": "code",
   "execution_count": null,
   "id": "8a5efc35",
   "metadata": {},
   "outputs": [],
   "source": []
  },
  {
   "cell_type": "markdown",
   "id": "b5bf5e2b",
   "metadata": {},
   "source": [
    "### Preenchimento dos campos nulos com valores fixos "
   ]
  },
  {
   "cell_type": "code",
   "execution_count": null,
   "id": "799f9e16",
   "metadata": {},
   "outputs": [],
   "source": []
  },
  {
   "cell_type": "code",
   "execution_count": 136,
   "id": "655858f3",
   "metadata": {},
   "outputs": [],
   "source": []
  },
  {
   "cell_type": "code",
   "execution_count": null,
   "id": "317c7e78",
   "metadata": {},
   "outputs": [],
   "source": []
  },
  {
   "cell_type": "markdown",
   "id": "5184662c",
   "metadata": {},
   "source": [
    "### Preenchimento dos campos nulos com o campo que mais se repete"
   ]
  },
  {
   "cell_type": "code",
   "execution_count": null,
   "id": "1f794d6f",
   "metadata": {},
   "outputs": [],
   "source": []
  },
  {
   "cell_type": "code",
   "execution_count": 139,
   "id": "05aceacf",
   "metadata": {},
   "outputs": [],
   "source": []
  },
  {
   "cell_type": "code",
   "execution_count": null,
   "id": "fcb1eba9",
   "metadata": {},
   "outputs": [],
   "source": []
  },
  {
   "cell_type": "markdown",
   "id": "7539bbe8",
   "metadata": {},
   "source": [
    "### Preenchimento dos campos nulos com valores fixos "
   ]
  },
  {
   "cell_type": "code",
   "execution_count": null,
   "id": "8c7c0e4a",
   "metadata": {},
   "outputs": [],
   "source": []
  },
  {
   "cell_type": "code",
   "execution_count": null,
   "id": "e3193f2f",
   "metadata": {},
   "outputs": [],
   "source": []
  },
  {
   "cell_type": "code",
   "execution_count": 143,
   "id": "569992ee",
   "metadata": {},
   "outputs": [],
   "source": []
  },
  {
   "cell_type": "code",
   "execution_count": null,
   "id": "8b3af493",
   "metadata": {},
   "outputs": [],
   "source": []
  },
  {
   "cell_type": "markdown",
   "id": "41597f08",
   "metadata": {},
   "source": [
    "### Preenchimento dos campos nulos com valores fixos "
   ]
  },
  {
   "cell_type": "code",
   "execution_count": null,
   "id": "70954998",
   "metadata": {},
   "outputs": [],
   "source": []
  },
  {
   "cell_type": "code",
   "execution_count": null,
   "id": "a013ebbb",
   "metadata": {},
   "outputs": [],
   "source": []
  },
  {
   "cell_type": "code",
   "execution_count": null,
   "id": "9b50725e",
   "metadata": {},
   "outputs": [],
   "source": []
  },
  {
   "cell_type": "code",
   "execution_count": 148,
   "id": "6c0c20f2",
   "metadata": {},
   "outputs": [],
   "source": []
  },
  {
   "cell_type": "code",
   "execution_count": null,
   "id": "cdfbfd84",
   "metadata": {},
   "outputs": [],
   "source": []
  },
  {
   "cell_type": "markdown",
   "id": "80d2cb13",
   "metadata": {},
   "source": [
    "### Verifica os resultados nulos após o tratamento"
   ]
  },
  {
   "cell_type": "code",
   "execution_count": null,
   "id": "5b1c6341",
   "metadata": {},
   "outputs": [],
   "source": []
  },
  {
   "cell_type": "markdown",
   "id": "d21147fd",
   "metadata": {},
   "source": [
    "### Eliminando os campos duplicados"
   ]
  },
  {
   "cell_type": "code",
   "execution_count": null,
   "id": "e55d4444",
   "metadata": {},
   "outputs": [],
   "source": []
  },
  {
   "cell_type": "markdown",
   "id": "735e0d90",
   "metadata": {},
   "source": [
    "### Eliminando as colunas constantes"
   ]
  },
  {
   "cell_type": "code",
   "execution_count": null,
   "id": "62c56b8b",
   "metadata": {},
   "outputs": [],
   "source": []
  },
  {
   "cell_type": "code",
   "execution_count": null,
   "id": "6619ffe6",
   "metadata": {},
   "outputs": [],
   "source": []
  },
  {
   "cell_type": "code",
   "execution_count": null,
   "id": "bfe33589",
   "metadata": {},
   "outputs": [],
   "source": []
  },
  {
   "cell_type": "markdown",
   "id": "32cafa87",
   "metadata": {},
   "source": [
    "### Eliminando as colunas extremamente desbalanceadas"
   ]
  },
  {
   "cell_type": "code",
   "execution_count": null,
   "id": "fa455fc1",
   "metadata": {},
   "outputs": [],
   "source": []
  },
  {
   "cell_type": "code",
   "execution_count": null,
   "id": "49b3ae7d",
   "metadata": {},
   "outputs": [],
   "source": []
  },
  {
   "cell_type": "code",
   "execution_count": null,
   "id": "4e6b58d7",
   "metadata": {},
   "outputs": [],
   "source": []
  },
  {
   "cell_type": "code",
   "execution_count": 159,
   "id": "9d1487c3",
   "metadata": {},
   "outputs": [],
   "source": []
  },
  {
   "cell_type": "code",
   "execution_count": null,
   "id": "13ea055a",
   "metadata": {},
   "outputs": [],
   "source": []
  },
  {
   "cell_type": "markdown",
   "id": "6762e747",
   "metadata": {},
   "source": [
    "### Verificação dos resultados depois de eliminar as colunas extremamente desbalanceadas"
   ]
  },
  {
   "cell_type": "code",
   "execution_count": 161,
   "id": "153d0ab4",
   "metadata": {},
   "outputs": [],
   "source": []
  },
  {
   "cell_type": "markdown",
   "id": "dc475290",
   "metadata": {},
   "source": [
    "### Verificação da precisão dos dados"
   ]
  },
  {
   "cell_type": "markdown",
   "id": "5238503b",
   "metadata": {},
   "source": [
    "### Os meses precisam estar no intervalo: 1 <= meses <= 12 "
   ]
  },
  {
   "cell_type": "code",
   "execution_count": null,
   "id": "d3a7e36c",
   "metadata": {},
   "outputs": [],
   "source": []
  },
  {
   "cell_type": "code",
   "execution_count": 163,
   "id": "ee6b93df",
   "metadata": {},
   "outputs": [],
   "source": []
  },
  {
   "cell_type": "markdown",
   "id": "fa28e159",
   "metadata": {},
   "source": [
    "### Verificação do resultado "
   ]
  },
  {
   "cell_type": "code",
   "execution_count": null,
   "id": "dafaf1b8",
   "metadata": {},
   "outputs": [],
   "source": []
  },
  {
   "cell_type": "markdown",
   "id": "220c5379",
   "metadata": {},
   "source": [
    "### O Ano precisam estar no intervalo: 1900 <= ano <= 2016 "
   ]
  },
  {
   "cell_type": "code",
   "execution_count": 170,
   "id": "3fbfc1a7",
   "metadata": {},
   "outputs": [],
   "source": []
  },
  {
   "cell_type": "markdown",
   "id": "8d396d65",
   "metadata": {},
   "source": [
    "### Verificação do resultado "
   ]
  },
  {
   "cell_type": "code",
   "execution_count": null,
   "id": "1e71f39e",
   "metadata": {},
   "outputs": [],
   "source": []
  },
  {
   "cell_type": "code",
   "execution_count": null,
   "id": "5bbb82d0",
   "metadata": {},
   "outputs": [],
   "source": []
  },
  {
   "cell_type": "markdown",
   "id": "81b69b80",
   "metadata": {},
   "source": [
    "### Os preços precisam ser maiores que 0"
   ]
  },
  {
   "cell_type": "code",
   "execution_count": 173,
   "id": "328975aa",
   "metadata": {},
   "outputs": [],
   "source": []
  },
  {
   "cell_type": "code",
   "execution_count": null,
   "id": "4e7ae0f5",
   "metadata": {},
   "outputs": [],
   "source": []
  },
  {
   "cell_type": "markdown",
   "id": "fe292170",
   "metadata": {},
   "source": [
    "### Eliminação de Outliers"
   ]
  },
  {
   "cell_type": "markdown",
   "id": "b574712b",
   "metadata": {},
   "source": [
    "#### Exemplo de distribuição e quantil\n",
    "<img src=\"https://media.geeksforgeeks.org/wp-content/uploads/20201127112813/NORMALDISTRIBUTION-660x362.png\"  width=\"80%\" height=\"60%\">"
   ]
  },
  {
   "cell_type": "code",
   "execution_count": null,
   "id": "2946f9bb",
   "metadata": {},
   "outputs": [],
   "source": []
  },
  {
   "cell_type": "code",
   "execution_count": null,
   "id": "fc1ec919",
   "metadata": {},
   "outputs": [],
   "source": []
  },
  {
   "cell_type": "code",
   "execution_count": null,
   "id": "645519e8",
   "metadata": {},
   "outputs": [],
   "source": []
  },
  {
   "cell_type": "code",
   "execution_count": null,
   "id": "eeb0bb85",
   "metadata": {},
   "outputs": [],
   "source": []
  },
  {
   "cell_type": "markdown",
   "id": "ad8a89f4",
   "metadata": {},
   "source": [
    "### Gera os novos resultados"
   ]
  },
  {
   "cell_type": "code",
   "execution_count": null,
   "id": "11b90ffc",
   "metadata": {},
   "outputs": [],
   "source": []
  }
 ],
 "metadata": {
  "kernelspec": {
   "display_name": "Python 3 (ipykernel)",
   "language": "python",
   "name": "python3"
  },
  "language_info": {
   "codemirror_mode": {
    "name": "ipython",
    "version": 3
   },
   "file_extension": ".py",
   "mimetype": "text/x-python",
   "name": "python",
   "nbconvert_exporter": "python",
   "pygments_lexer": "ipython3",
   "version": "3.9.7"
  }
 },
 "nbformat": 4,
 "nbformat_minor": 5
}
