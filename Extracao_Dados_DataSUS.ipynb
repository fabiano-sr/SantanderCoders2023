{
  "nbformat": 4,
  "nbformat_minor": 0,
  "metadata": {
    "colab": {
      "provenance": [],
      "authorship_tag": "ABX9TyPwxosWXtiRmNF7c3dAR5xm",
      "include_colab_link": true
    },
    "kernelspec": {
      "name": "python3",
      "display_name": "Python 3"
    },
    "language_info": {
      "name": "python"
    }
  },
  "cells": [
    {
      "cell_type": "markdown",
      "metadata": {
        "id": "view-in-github",
        "colab_type": "text"
      },
      "source": [
        "<a href=\"https://colab.research.google.com/github/rodrigues-fs/SantanderCoders2023/blob/main/Extracao_Dados_DataSUS.ipynb\" target=\"_parent\"><img src=\"https://colab.research.google.com/assets/colab-badge.svg\" alt=\"Open In Colab\"/></a>"
      ]
    },
    {
      "cell_type": "code",
      "execution_count": null,
      "metadata": {
        "id": "BivfOXZQGndV"
      },
      "outputs": [],
      "source": [
        "!pip install PySUS"
      ]
    },
    {
      "cell_type": "code",
      "source": [
        "from pysus.ftp.databases.sih import SIH\n",
        "sih = SIH().load() # Loads the files from DATASUS\n",
        "ano = [2023]\n",
        "mes = [1,2,3,4,5,6,7,8,9,10,11,12]\n",
        "estado = ['SP']\n",
        "grupo = ['RD']\n",
        "for i in mes:\n",
        "  files = sih.get_files(group=grupo, uf=estado, year=ano, month=i)\n",
        "  path = '/content/drive/MyDrive/colab/datasus/SIH/RD'\n",
        "  print(file)\n",
        "  parquet = sih.download(files, path)\n",
        "  parquet.to_csv()"
      ],
      "metadata": {
        "id": "L4ZFjuedHp6E"
      },
      "execution_count": null,
      "outputs": []
    },
    {
      "cell_type": "code",
      "source": [
        "import pandas as pd"
      ],
      "metadata": {
        "id": "KS0Vg5MYRVww"
      },
      "execution_count": 3,
      "outputs": []
    },
    {
      "cell_type": "code",
      "source": [
        "for i in range(0, 12):\n",
        "  dados = parquet[i].to_dataframe()\n",
        "  dados.to_csv(f'RDSP23{i}.csv')"
      ],
      "metadata": {
        "id": "7oFm9mGaQ1rY"
      },
      "execution_count": 9,
      "outputs": []
    },
    {
      "cell_type": "code",
      "source": [],
      "metadata": {
        "id": "_cb2XkIZSEZr"
      },
      "execution_count": null,
      "outputs": []
    },
    {
      "cell_type": "code",
      "source": [
        "dados"
      ],
      "metadata": {
        "id": "UDu8Vvl7RfEQ"
      },
      "execution_count": null,
      "outputs": []
    },
    {
      "cell_type": "code",
      "source": [],
      "metadata": {
        "id": "4R-724VERovz"
      },
      "execution_count": null,
      "outputs": []
    }
  ]
}